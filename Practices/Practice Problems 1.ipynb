{
 "cells": [
  {
   "cell_type": "markdown",
   "metadata": {
    "id": "k4Zwpyeblb9j"
   },
   "source": [
    "# Development Problems 1"
   ]
  },
  {
   "cell_type": "markdown",
   "metadata": {},
   "source": [
    "**Author**: Omar David Toledo Leguizamón"
   ]
  },
  {
   "cell_type": "code",
   "execution_count": 1,
   "metadata": {
    "executionInfo": {
     "elapsed": 42,
     "status": "ok",
     "timestamp": 1744075871595,
     "user": {
      "displayName": "Omar David Toledo Leguizamon",
      "userId": "07912236479905025781"
     },
     "user_tz": 300
    },
    "id": "syAz7PofBFQX"
   },
   "outputs": [],
   "source": [
    "import numpy as np"
   ]
  },
  {
   "cell_type": "markdown",
   "metadata": {
    "id": "1-2RY1v2pDen"
   },
   "source": [
    "Let $D = \\{d1, . . . , dn\\}$ be a set of documents and $T = \\{t1, . . . , tm\\}$ a set of terms (words). Let $TD = (T D_{i,j} )_{i=1...m,j=1...n}$ be a matrix such that $T D_{i,j}$ corresponds to the number of times the term $t_i$ appears in the document $d_j$. Also, let li be the length, number of characters, of term $t_i$, and let $L = (l_1, ... , l_m)$ be a column vector. Finally, assume a process where a document $d_j$ is randomly chosen with uniform probability and then a term $t_i$, present in $d_j$ ,is randomly chosen with a probability proportional to the frequency of $t_i$ in $d_j$"
   ]
  },
  {
   "cell_type": "markdown",
   "metadata": {
    "id": "Tm_dAh5Vlftc"
   },
   "source": [
    "## Formal mathematical expression"
   ]
  },
  {
   "cell_type": "markdown",
   "metadata": {
    "id": "Aox7tXwkryYe"
   },
   "source": [
    "In order to express the development of the problems using linear algebra operations, we are going to define some constants and functions that may help us to simplify further specification."
   ]
  },
  {
   "cell_type": "markdown",
   "metadata": {
    "id": "iVVIibeeBHCi"
   },
   "source": [
    "### Auxiliary expressions"
   ]
  },
  {
   "cell_type": "markdown",
   "metadata": {
    "id": "QR4cuHlosiNu"
   },
   "source": [
    "**1. Define a matrix full of ones**: Define a matrix of size $m \\times n$ full of ones as the following:\n",
    "\n",
    "$$\\textbf{1}_{m \\times n} = \\begin{bmatrix}\n",
    "1 & \\dots  & 1\\\\\n",
    "\\vdots & \\ddots & \\vdots \\\\\n",
    "1 & \\dots & 1\n",
    "\\end{bmatrix}_{m \\times n}\n",
    "$$\n",
    "\n",
    "**2. Sum by rows**: We define a function that given a matrix of size $m \\times n$, we can get a column vector $m \\times 1$ that has the sum of the values on each row:\n",
    "\n",
    "\n",
    "\\begin{array}{crl}\n",
    "      \\text{SR: } & \\mathbb{R}^{m \\times n}&\\longrightarrow & \\mathbb{R}^{m \\times 1} \\\\\n",
    "      & A_{m \\times n} & \\longmapsto & A_{m \\times n} \\cdot \\textbf{1}_{n \\times 1} \\\\\n",
    "\\end{array}\n",
    "\n",
    "\n",
    "**2. Sum by columns**: We define a function that given a matrix of size $m \\times n$, we can get a row vector $1 \\times n$ that has the sum of the values on each column:\n",
    "\n",
    "\n",
    "\\begin{array}{crl}\n",
    "      \\text{SC: } & \\mathbb{R}^{m \\times n}&\\longrightarrow & \\mathbb{R}^{1 \\times n} \\\\\n",
    "      & A_{m \\times n} & \\longmapsto & \\textbf{1}_{1 \\times m} \\cdot A_{m \\times n}\\\\\n",
    "\\end{array}\n",
    "\n",
    "**3. Convert vector to diagonal matrix**: Given a row vector of size $1 \\times n$, we define a function that returns the diagonal matrix of size $n \\times n$ whose diagonal is the input vector. This process is done by applying the Hadamard product over a identity matrix\n",
    "\n",
    "\\begin{array}{crl}\n",
    "      \\text{Dg: } & \\mathbb{R}^{1 \\times n}&\\longrightarrow & \\mathbb{R}^{n \\times n} \\\\\n",
    "      & A_{1 \\times n} & \\longmapsto & \\left( \\textbf{1}_{n \\times 1} \\cdot A_{1 \\times n} \\right) \\circ I_n\\\\\n",
    "\\end{array}"
   ]
  },
  {
   "cell_type": "code",
   "execution_count": 2,
   "metadata": {
    "executionInfo": {
     "elapsed": 12,
     "status": "ok",
     "timestamp": 1744076351287,
     "user": {
      "displayName": "Omar David Toledo Leguizamon",
      "userId": "07912236479905025781"
     },
     "user_tz": 300
    },
    "id": "AlUtk7-4Cp-v"
   },
   "outputs": [],
   "source": [
    "def SR(A):\n",
    "  return A @ np.ones(shape = (A.shape[1],1))\n",
    "\n",
    "def SC(A):\n",
    "  return np.ones(shape = (1,A.shape[0])) @ A\n",
    "\n",
    "def Dg(A):\n",
    "  _ , n = A.shape\n",
    "  return (np.ones(shape = (n,1)) @ A) * np.eye(n)"
   ]
  },
  {
   "cell_type": "markdown",
   "metadata": {
    "id": "MGQX2FqrEeBb"
   },
   "source": [
    "### Problems to solve"
   ]
  },
  {
   "cell_type": "markdown",
   "metadata": {
    "id": "C6_7zBrINFFc"
   },
   "source": [
    "#### $\\text{a.  } P(D)$"
   ]
  },
  {
   "cell_type": "markdown",
   "metadata": {
    "id": "KPXAfauQNISE"
   },
   "source": [
    "As it is said in the problem, choosing any document has the same probability. Then if we have $n$ documents, each document has a probability of $1/n$ to be chosen. Then:\n",
    "\n",
    "$$ P(D)_{1 \\times n} =  \\dfrac{1}{n} \\cdot \\textbf{1}_{1 \\times n}$$"
   ]
  },
  {
   "cell_type": "markdown",
   "metadata": {
    "id": "YjEvxE86ilHR"
   },
   "source": [
    "#### $\\text{b.  } P(T|D)$"
   ]
  },
  {
   "cell_type": "markdown",
   "metadata": {
    "id": "ThT_0E1eint4"
   },
   "source": [
    "As it is said in the problem, the probability to choose a term is proportional to the frecuence of the term in the document. Then, the idea will be to get the total amount of terms in each document and then divide the corresponding column defined by the document by this number. As a linear algebra operation, it can be done like:\n",
    "\n",
    "$$P(T | D)_{m \\times n} = {TD}_{m \\times n} \\cdot \\left(\\text{Dg}(\\text{SC}(TD)) \\right)^{-1} _{n \\times n}$$"
   ]
  },
  {
   "cell_type": "markdown",
   "metadata": {
    "id": "lYmefRCREhvi"
   },
   "source": [
    "#### $\\text{c.   } P(T,D)$"
   ]
  },
  {
   "cell_type": "markdown",
   "metadata": {
    "id": "-c8wxZ-xM_qO"
   },
   "source": [
    "To define the joint probability, we will use the definition given by the product rule. Which says that:\n",
    "\n",
    "$$P(X,Y) = P(X|Y)P(Y) = P(Y|X)P(X)$$\n",
    "\n",
    "Then as we already know what is $P(D)$ and $P(T|D)$, we will find the joint probability matrix by applying:\n",
    "\n",
    "$$P(T,D)_{m \\times n} = P(T,D)_{m \\times n} \\cdot \\text{Dg}(P(D))_{n \\times n}$$"
   ]
  },
  {
   "cell_type": "markdown",
   "metadata": {
    "id": "8QSIcCSIrt8C"
   },
   "source": [
    "#### $\\text{d.   } P(T)$"
   ]
  },
  {
   "cell_type": "markdown",
   "metadata": {
    "id": "xbAHN6vWof7j"
   },
   "source": [
    "\n",
    "\n",
    "In order to get the mmarginal probability of the terms, we are going to use the sum rule. Which says that:\n",
    "\n",
    "$$P(X) = \\sum_{y} P(x,y)$$\n",
    "\n",
    "As we already have the matrix that represents the joint probability, we can get the marginal probability for the terms by doing:\n",
    "\n",
    "$$P(T)_{m \\times 1} = \\text{SR}(P(T,D))_{m \\times 1} $$"
   ]
  },
  {
   "cell_type": "markdown",
   "metadata": {
    "id": "wdUAb3NOws8L"
   },
   "source": [
    "#### $\\text{e.   }P(D | T)$"
   ]
  },
  {
   "cell_type": "markdown",
   "metadata": {
    "id": "dW6hioCYtFI9"
   },
   "source": [
    "To get the matrix related to this conditional probability, we are going to use Bayes theorem; which says:\n",
    "\n",
    "$$P(X|Y) = \\dfrac{P(Y|X)P(X)}{P(Y)} = \\dfrac{P(X,Y)}{P(Y)}$$\n",
    "\n",
    "For our purposes, instead of dividing (As there is not a formal expression for this operation in linear algebra) we are going to multiply by the inverse matrix of the marginal probability.\n",
    "\n",
    "$$P(D|T)_{m \\times n} = \\left( \\text{Dg}(P(T)^{T})\\right)^{-1}_{m \\times m} \\cdot P(T,D)_{m \\times n} $$\n",
    "\n"
   ]
  },
  {
   "cell_type": "markdown",
   "metadata": {
    "id": "0SoUPINY9PoP"
   },
   "source": [
    "#### $\\text{f.   }E[l]$"
   ]
  },
  {
   "cell_type": "markdown",
   "metadata": {
    "id": "ehd88SuK9xgC"
   },
   "source": [
    "In order to get an expected value in a discrete probability space, we must use the following formula:\n",
    "\n",
    "$$E[f(x)] = \\sum_{x} P(x)f(x)$$\n",
    "\n",
    "For our problem, as we want to get the expected value for the length of the terms, we are going to use the marginal probability related to the terms. Then, the expected value operation can be modeled as a simple dot product. Then:\n",
    "\n",
    "$$E[l]_{1 \\times 1} = l_{1 \\times m} \\cdot P(T)_{m \\times 1}$$"
   ]
  },
  {
   "cell_type": "markdown",
   "metadata": {
    "id": "Wlvc2jFaNZ3D"
   },
   "source": [
    "#### $\\text{g.   Var}[l]$"
   ]
  },
  {
   "cell_type": "markdown",
   "metadata": {
    "id": "vqDPDOJvNlCV"
   },
   "source": [
    "The expression that let us get the variance is the following:\n",
    "\n",
    "$$\\text{Var}[f(x)] = E[(f(x) - E[f(x)])^2] = E[f(x)^2] - (E[f(x)])^2$$\n",
    "\n",
    "In this order of ideas, we express the squared value of $l$ using the Hadamard product (element by element squared).\n",
    "\n",
    "Then, we can apply the following:\n",
    "\n",
    "$$\\text{Var}[l]_{1 \\times 1}=  (l \\circ l)_{1 \\times m} \\cdot P(T)_{m \\times 1} - (E[l])^2$$"
   ]
  },
  {
   "cell_type": "markdown",
   "metadata": {
    "id": "6vyXjKGPllWe"
   },
   "source": [
    "## Implementation"
   ]
  },
  {
   "cell_type": "code",
   "execution_count": 3,
   "metadata": {
    "colab": {
     "base_uri": "https://localhost:8080/"
    },
    "executionInfo": {
     "elapsed": 18,
     "status": "ok",
     "timestamp": 1744075936470,
     "user": {
      "displayName": "Omar David Toledo Leguizamon",
      "userId": "07912236479905025781"
     },
     "user_tz": 300
    },
    "id": "M_G4MNX8BKI_",
    "outputId": "4edfb88c-b2c2-4e36-d187-215f5619b65d"
   },
   "outputs": [
    {
     "name": "stdout",
     "output_type": "stream",
     "text": [
      "TD shape: (6, 5)\n",
      "L shape: (1, 6)\n"
     ]
    }
   ],
   "source": [
    "TD = [[2,3,0,3,7],\n",
    "      [0,5,5,0,3],\n",
    "      [5,0,7,3,3],\n",
    "      [3,1,0,9,9],\n",
    "      [0,0,7,1,3],\n",
    "      [6,9,4,6,0]]\n",
    "\n",
    "L = [5,2,3,6,4,3]\n",
    "\n",
    "TD = np.array(TD)\n",
    "L = np.array(L).reshape((1,len(L)))\n",
    "\n",
    "print(f'TD shape: {TD.shape}')\n",
    "print(f'L shape: {L.shape}')"
   ]
  },
  {
   "cell_type": "markdown",
   "metadata": {
    "id": "ACCTBK4wA8TW"
   },
   "source": [
    "### Using full linear algebra"
   ]
  },
  {
   "cell_type": "markdown",
   "metadata": {
    "id": "MCQtyGfJBIgV"
   },
   "source": [
    "#### $\\text{a.  } P(D)$"
   ]
  },
  {
   "cell_type": "code",
   "execution_count": 4,
   "metadata": {
    "colab": {
     "base_uri": "https://localhost:8080/"
    },
    "executionInfo": {
     "elapsed": 34,
     "status": "ok",
     "timestamp": 1744076152921,
     "user": {
      "displayName": "Omar David Toledo Leguizamon",
      "userId": "07912236479905025781"
     },
     "user_tz": 300
    },
    "id": "xlj-jaoUCQAv",
    "outputId": "9e4d487d-21a1-4332-ec3f-0d6f1ecb7787"
   },
   "outputs": [
    {
     "data": {
      "text/plain": [
       "array([[0.2, 0.2, 0.2, 0.2, 0.2]])"
      ]
     },
     "execution_count": 4,
     "metadata": {},
     "output_type": "execute_result"
    }
   ],
   "source": [
    "def P_D(TD):\n",
    "  m,n = TD.shape\n",
    "  return 1/n * np.ones(shape = (1,n))\n",
    "\n",
    "P_D(TD)"
   ]
  },
  {
   "cell_type": "markdown",
   "metadata": {
    "id": "QoQ_T2O_B1Kg"
   },
   "source": [
    "#### $\\text{b.  } P(T|D)$"
   ]
  },
  {
   "cell_type": "code",
   "execution_count": 5,
   "metadata": {
    "colab": {
     "base_uri": "https://localhost:8080/"
    },
    "executionInfo": {
     "elapsed": 23,
     "status": "ok",
     "timestamp": 1744076432381,
     "user": {
      "displayName": "Omar David Toledo Leguizamon",
      "userId": "07912236479905025781"
     },
     "user_tz": 300
    },
    "id": "jbre1cPUCjcA",
    "outputId": "1e762c24-ffc5-45de-a778-a455dd09b27f"
   },
   "outputs": [
    {
     "data": {
      "text/plain": [
       "array([[0.125     , 0.16666667, 0.        , 0.13636364, 0.28      ],\n",
       "       [0.        , 0.27777778, 0.2173913 , 0.        , 0.12      ],\n",
       "       [0.3125    , 0.        , 0.30434783, 0.13636364, 0.12      ],\n",
       "       [0.1875    , 0.05555556, 0.        , 0.40909091, 0.36      ],\n",
       "       [0.        , 0.        , 0.30434783, 0.04545455, 0.12      ],\n",
       "       [0.375     , 0.5       , 0.17391304, 0.27272727, 0.        ]])"
      ]
     },
     "execution_count": 5,
     "metadata": {},
     "output_type": "execute_result"
    }
   ],
   "source": [
    "def P_T_given_D(TD):\n",
    "  return TD @ np.linalg.inv(Dg(SC(TD)))\n",
    "\n",
    "P_T_given_D(TD)"
   ]
  },
  {
   "cell_type": "markdown",
   "metadata": {
    "id": "6-NSuS2YD-cq"
   },
   "source": [
    "#### $\\text{c.  } P(T,D)$"
   ]
  },
  {
   "cell_type": "code",
   "execution_count": 6,
   "metadata": {
    "colab": {
     "base_uri": "https://localhost:8080/"
    },
    "executionInfo": {
     "elapsed": 17,
     "status": "ok",
     "timestamp": 1744076572692,
     "user": {
      "displayName": "Omar David Toledo Leguizamon",
      "userId": "07912236479905025781"
     },
     "user_tz": 300
    },
    "id": "gkmd9BpQD-HI",
    "outputId": "8d0094f7-f438-49a7-e7ed-f6974ec1d870"
   },
   "outputs": [
    {
     "data": {
      "text/plain": [
       "array([[0.025     , 0.03333333, 0.        , 0.02727273, 0.056     ],\n",
       "       [0.        , 0.05555556, 0.04347826, 0.        , 0.024     ],\n",
       "       [0.0625    , 0.        , 0.06086957, 0.02727273, 0.024     ],\n",
       "       [0.0375    , 0.01111111, 0.        , 0.08181818, 0.072     ],\n",
       "       [0.        , 0.        , 0.06086957, 0.00909091, 0.024     ],\n",
       "       [0.075     , 0.1       , 0.03478261, 0.05454545, 0.        ]])"
      ]
     },
     "execution_count": 6,
     "metadata": {},
     "output_type": "execute_result"
    }
   ],
   "source": [
    "def P_T_D_jopint(TD):\n",
    "  return P_T_given_D(TD) @ Dg(P_D(TD))\n",
    "\n",
    "P_T_D_jopint(TD)"
   ]
  },
  {
   "cell_type": "markdown",
   "metadata": {
    "id": "YwOi-lhrEPTX"
   },
   "source": [
    "#### $\\text{d.  } P(T)$"
   ]
  },
  {
   "cell_type": "code",
   "execution_count": 7,
   "metadata": {
    "colab": {
     "base_uri": "https://localhost:8080/"
    },
    "executionInfo": {
     "elapsed": 41,
     "status": "ok",
     "timestamp": 1744076710677,
     "user": {
      "displayName": "Omar David Toledo Leguizamon",
      "userId": "07912236479905025781"
     },
     "user_tz": 300
    },
    "id": "2e3YSM83En-H",
    "outputId": "6c0c82b6-7b6e-40c9-c4c5-1a9b41708e91"
   },
   "outputs": [
    {
     "data": {
      "text/plain": [
       "array([[0.14160606],\n",
       "       [0.12303382],\n",
       "       [0.17464229],\n",
       "       [0.20242929],\n",
       "       [0.09396047],\n",
       "       [0.26432806]])"
      ]
     },
     "execution_count": 7,
     "metadata": {},
     "output_type": "execute_result"
    }
   ],
   "source": [
    "def P_T(TD):\n",
    "  return SR(P_T_D_jopint(TD))\n",
    "\n",
    "P_T(TD)"
   ]
  },
  {
   "cell_type": "markdown",
   "metadata": {
    "id": "YWSYuP_SEswa"
   },
   "source": [
    "#### $\\text{e.  } P(D|T)$"
   ]
  },
  {
   "cell_type": "code",
   "execution_count": 8,
   "metadata": {
    "colab": {
     "base_uri": "https://localhost:8080/"
    },
    "executionInfo": {
     "elapsed": 32,
     "status": "ok",
     "timestamp": 1744076756453,
     "user": {
      "displayName": "Omar David Toledo Leguizamon",
      "userId": "07912236479905025781"
     },
     "user_tz": 300
    },
    "id": "cvCyEwhhExlX",
    "outputId": "d5aea382-02e3-4b9a-d17a-3d2924a0ef87"
   },
   "outputs": [
    {
     "data": {
      "text/plain": [
       "array([[0.17654612, 0.23539482, 0.        , 0.19259576, 0.3954633 ],\n",
       "       [0.        , 0.45154704, 0.35338464, 0.        , 0.19506832],\n",
       "       [0.35787437, 0.        , 0.34853851, 0.15616336, 0.13742376],\n",
       "       [0.18524987, 0.05488885, 0.        , 0.40418153, 0.35567975],\n",
       "       [0.        , 0.        , 0.64782097, 0.09675248, 0.25542655],\n",
       "       [0.28373832, 0.37831776, 0.13158879, 0.20635514, 0.        ]])"
      ]
     },
     "execution_count": 8,
     "metadata": {},
     "output_type": "execute_result"
    }
   ],
   "source": [
    "def P_D_given_T(TD):\n",
    "  return np.linalg.inv(Dg(P_T(TD).T)) @ P_T_D_jopint(TD)\n",
    "\n",
    "P_D_given_T(TD)"
   ]
  },
  {
   "cell_type": "markdown",
   "metadata": {
    "id": "K2ekugE2FDPX"
   },
   "source": [
    "#### $\\text{f.  } E[l]$"
   ]
  },
  {
   "cell_type": "code",
   "execution_count": 9,
   "metadata": {
    "colab": {
     "base_uri": "https://localhost:8080/"
    },
    "executionInfo": {
     "elapsed": 30,
     "status": "ok",
     "timestamp": 1744076899551,
     "user": {
      "displayName": "Omar David Toledo Leguizamon",
      "userId": "07912236479905025781"
     },
     "user_tz": 300
    },
    "id": "GBcRK1wGFGIX",
    "outputId": "2c2b9ba7-ab14-480c-bdf9-6763461eaf5e"
   },
   "outputs": [
    {
     "data": {
      "text/plain": [
       "array([[3.86142666]])"
      ]
     },
     "execution_count": 9,
     "metadata": {},
     "output_type": "execute_result"
    }
   ],
   "source": [
    "def expected_length(TD,L):\n",
    "  return L @ P_T(TD)\n",
    "\n",
    "expected_length(TD,L)"
   ]
  },
  {
   "cell_type": "markdown",
   "metadata": {
    "id": "nWA9vOcqTmoF"
   },
   "source": [
    "#### $\\text{f.  Var}[l]$"
   ]
  },
  {
   "cell_type": "code",
   "execution_count": 10,
   "metadata": {
    "colab": {
     "base_uri": "https://localhost:8080/"
    },
    "executionInfo": {
     "elapsed": 23,
     "status": "ok",
     "timestamp": 1744080668697,
     "user": {
      "displayName": "Omar David Toledo Leguizamon",
      "userId": "07912236479905025781"
     },
     "user_tz": 300
    },
    "id": "5jjU3K6gTqIk",
    "outputId": "eacedbcb-1820-4fe2-abbe-c33810ffecc4"
   },
   "outputs": [
    {
     "data": {
      "text/plain": [
       "array([[1.86322628]])"
      ]
     },
     "execution_count": 10,
     "metadata": {},
     "output_type": "execute_result"
    }
   ],
   "source": [
    "def variance_length(TD,L):\n",
    "  return (L)**2 @ P_T(TD) - (expected_length(TD,L))**2\n",
    "\n",
    "variance_length(TD,L)"
   ]
  },
  {
   "cell_type": "markdown",
   "metadata": {
    "id": "2Z4HDPrKBAJ_"
   },
   "source": [
    "### Using some implemented operations in numpy"
   ]
  },
  {
   "cell_type": "markdown",
   "metadata": {
    "id": "XETBMREfIKXy"
   },
   "source": [
    "#### $\\text{a.  } P(D)$"
   ]
  },
  {
   "cell_type": "code",
   "execution_count": 11,
   "metadata": {
    "colab": {
     "base_uri": "https://localhost:8080/"
    },
    "executionInfo": {
     "elapsed": 26,
     "status": "ok",
     "timestamp": 1744078350374,
     "user": {
      "displayName": "Omar David Toledo Leguizamon",
      "userId": "07912236479905025781"
     },
     "user_tz": 300
    },
    "id": "GdUYn2tnIIj0",
    "outputId": "d01d454f-7469-4010-b5b9-3aa011f25962"
   },
   "outputs": [
    {
     "data": {
      "text/plain": [
       "array([[0.2, 0.2, 0.2, 0.2, 0.2]])"
      ]
     },
     "execution_count": 11,
     "metadata": {},
     "output_type": "execute_result"
    }
   ],
   "source": [
    "def P_D(TD):\n",
    "  m,n = TD.shape\n",
    "  return np.full(shape = (1,n), fill_value = 1/n)\n",
    "\n",
    "P_D(TD)"
   ]
  },
  {
   "cell_type": "markdown",
   "metadata": {
    "id": "TqS9MXrvIK7z"
   },
   "source": [
    "#### $\\text{b.  } P(T|D)$"
   ]
  },
  {
   "cell_type": "code",
   "execution_count": 12,
   "metadata": {
    "colab": {
     "base_uri": "https://localhost:8080/"
    },
    "executionInfo": {
     "elapsed": 39,
     "status": "ok",
     "timestamp": 1744078351986,
     "user": {
      "displayName": "Omar David Toledo Leguizamon",
      "userId": "07912236479905025781"
     },
     "user_tz": 300
    },
    "id": "Nzpquf0NKcbt",
    "outputId": "fc3580ab-503c-42c1-f03e-388d03384a65"
   },
   "outputs": [
    {
     "data": {
      "text/plain": [
       "array([[0.125     , 0.16666667, 0.        , 0.13636364, 0.28      ],\n",
       "       [0.        , 0.27777778, 0.2173913 , 0.        , 0.12      ],\n",
       "       [0.3125    , 0.        , 0.30434783, 0.13636364, 0.12      ],\n",
       "       [0.1875    , 0.05555556, 0.        , 0.40909091, 0.36      ],\n",
       "       [0.        , 0.        , 0.30434783, 0.04545455, 0.12      ],\n",
       "       [0.375     , 0.5       , 0.17391304, 0.27272727, 0.        ]])"
      ]
     },
     "execution_count": 12,
     "metadata": {},
     "output_type": "execute_result"
    }
   ],
   "source": [
    "def P_T_given_D(TD):\n",
    "  sums = TD.sum(axis=0)\n",
    "  return TD / sums\n",
    "\n",
    "P_T_given_D(TD)"
   ]
  },
  {
   "cell_type": "markdown",
   "metadata": {
    "id": "rsDKr8m3IMx4"
   },
   "source": [
    "#### $\\text{c.  } P(T,D)$"
   ]
  },
  {
   "cell_type": "code",
   "execution_count": 13,
   "metadata": {
    "colab": {
     "base_uri": "https://localhost:8080/"
    },
    "executionInfo": {
     "elapsed": 13,
     "status": "ok",
     "timestamp": 1744078370035,
     "user": {
      "displayName": "Omar David Toledo Leguizamon",
      "userId": "07912236479905025781"
     },
     "user_tz": 300
    },
    "id": "ebizmzJmK3bC",
    "outputId": "02ac9e78-1404-4c2d-caaf-a938badc08a3"
   },
   "outputs": [
    {
     "data": {
      "text/plain": [
       "array([[0.025     , 0.03333333, 0.        , 0.02727273, 0.056     ],\n",
       "       [0.        , 0.05555556, 0.04347826, 0.        , 0.024     ],\n",
       "       [0.0625    , 0.        , 0.06086957, 0.02727273, 0.024     ],\n",
       "       [0.0375    , 0.01111111, 0.        , 0.08181818, 0.072     ],\n",
       "       [0.        , 0.        , 0.06086957, 0.00909091, 0.024     ],\n",
       "       [0.075     , 0.1       , 0.03478261, 0.05454545, 0.        ]])"
      ]
     },
     "execution_count": 13,
     "metadata": {},
     "output_type": "execute_result"
    }
   ],
   "source": [
    "def P_T_D_joint(TD):\n",
    "  return P_T_given_D(TD) * P_D(TD)\n",
    "\n",
    "P_T_D_joint(TD)"
   ]
  },
  {
   "cell_type": "markdown",
   "metadata": {
    "id": "h33pUIOTIlKA"
   },
   "source": [
    "#### $\\text{d.  } P(T)$"
   ]
  },
  {
   "cell_type": "code",
   "execution_count": 14,
   "metadata": {
    "colab": {
     "base_uri": "https://localhost:8080/"
    },
    "executionInfo": {
     "elapsed": 20,
     "status": "ok",
     "timestamp": 1744078416694,
     "user": {
      "displayName": "Omar David Toledo Leguizamon",
      "userId": "07912236479905025781"
     },
     "user_tz": 300
    },
    "id": "GwnFrIBxLDBq",
    "outputId": "9e9c5d99-0212-45b4-c304-7876b275a5e8"
   },
   "outputs": [
    {
     "data": {
      "text/plain": [
       "array([0.14160606, 0.12303382, 0.17464229, 0.20242929, 0.09396047,\n",
       "       0.26432806])"
      ]
     },
     "execution_count": 14,
     "metadata": {},
     "output_type": "execute_result"
    }
   ],
   "source": [
    "def P_T(TD):\n",
    "  return P_T_D_jopint(TD).sum(axis=1)\n",
    "\n",
    "P_T(TD)"
   ]
  },
  {
   "cell_type": "markdown",
   "metadata": {
    "id": "3OfMUUd6Im0B"
   },
   "source": [
    "#### $\\text{e.  } P(D|T)$"
   ]
  },
  {
   "cell_type": "code",
   "execution_count": 15,
   "metadata": {
    "colab": {
     "base_uri": "https://localhost:8080/"
    },
    "executionInfo": {
     "elapsed": 45,
     "status": "ok",
     "timestamp": 1744078576146,
     "user": {
      "displayName": "Omar David Toledo Leguizamon",
      "userId": "07912236479905025781"
     },
     "user_tz": 300
    },
    "id": "aXJlr-RELVmC",
    "outputId": "ebacee8b-9303-4215-c737-48a28342b0de"
   },
   "outputs": [
    {
     "data": {
      "text/plain": [
       "array([[0.17654612, 0.23539482, 0.        , 0.19259576, 0.3954633 ],\n",
       "       [0.        , 0.45154704, 0.35338464, 0.        , 0.19506832],\n",
       "       [0.35787437, 0.        , 0.34853851, 0.15616336, 0.13742376],\n",
       "       [0.18524987, 0.05488885, 0.        , 0.40418153, 0.35567975],\n",
       "       [0.        , 0.        , 0.64782097, 0.09675248, 0.25542655],\n",
       "       [0.28373832, 0.37831776, 0.13158879, 0.20635514, 0.        ]])"
      ]
     },
     "execution_count": 15,
     "metadata": {},
     "output_type": "execute_result"
    }
   ],
   "source": [
    "def P_D_given_T(TD):\n",
    "  return  (P_T_D_joint(TD).T / P_T(TD)).T\n",
    "\n",
    "P_D_given_T(TD)"
   ]
  },
  {
   "cell_type": "markdown",
   "metadata": {
    "id": "iYJpkFksIogo"
   },
   "source": [
    "#### $\\text{f.  } E[l]$"
   ]
  },
  {
   "cell_type": "code",
   "execution_count": 16,
   "metadata": {
    "colab": {
     "base_uri": "https://localhost:8080/"
    },
    "executionInfo": {
     "elapsed": 18,
     "status": "ok",
     "timestamp": 1744078595119,
     "user": {
      "displayName": "Omar David Toledo Leguizamon",
      "userId": "07912236479905025781"
     },
     "user_tz": 300
    },
    "id": "JFgBQAnvLyIb",
    "outputId": "dd386939-e2a2-4b48-9ba0-9fdf3c709672"
   },
   "outputs": [
    {
     "data": {
      "text/plain": [
       "array([3.86142666])"
      ]
     },
     "execution_count": 16,
     "metadata": {},
     "output_type": "execute_result"
    }
   ],
   "source": [
    "def expected_length(TD,L):\n",
    "  return L @ P_T(TD)\n",
    "\n",
    "expected_length(TD,L)"
   ]
  },
  {
   "cell_type": "markdown",
   "metadata": {
    "id": "rsm6BePzT1Ms"
   },
   "source": [
    "#### $\\text{f.  Var}[l]$"
   ]
  },
  {
   "cell_type": "code",
   "execution_count": 17,
   "metadata": {
    "colab": {
     "base_uri": "https://localhost:8080/"
    },
    "executionInfo": {
     "elapsed": 62,
     "status": "ok",
     "timestamp": 1744080709430,
     "user": {
      "displayName": "Omar David Toledo Leguizamon",
      "userId": "07912236479905025781"
     },
     "user_tz": 300
    },
    "id": "NpKbkQgvT1yk",
    "outputId": "0e4178d4-770b-4652-e0b5-204296aa47bc"
   },
   "outputs": [
    {
     "data": {
      "text/plain": [
       "array([1.86322628])"
      ]
     },
     "execution_count": 17,
     "metadata": {},
     "output_type": "execute_result"
    }
   ],
   "source": [
    "def variance_length(TD,L):\n",
    "  return (L)**2 @ P_T(TD) - (expected_length(TD,L))**2\n",
    "\n",
    "variance_length(TD,L)"
   ]
  }
 ],
 "metadata": {
  "colab": {
   "provenance": [],
   "toc_visible": true
  },
  "kernelspec": {
   "display_name": "MLVenv",
   "language": "python",
   "name": "python3"
  },
  "language_info": {
   "codemirror_mode": {
    "name": "ipython",
    "version": 3
   },
   "file_extension": ".py",
   "mimetype": "text/x-python",
   "name": "python",
   "nbconvert_exporter": "python",
   "pygments_lexer": "ipython3",
   "version": "3.11.4"
  }
 },
 "nbformat": 4,
 "nbformat_minor": 0
}
