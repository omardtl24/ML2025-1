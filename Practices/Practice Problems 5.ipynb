{
 "cells": [
  {
   "cell_type": "markdown",
   "id": "06a9db1c",
   "metadata": {},
   "source": [
    "# Practice 5"
   ]
  },
  {
   "cell_type": "markdown",
   "id": "1e9a69a8",
   "metadata": {},
   "source": [
    "Suppose you have 3 data points $x_1 = (1, 2)$, $x_2 = (3, 1)$ and $x_3 = (0, 1)$ and a kernel function\n",
    "$k(x, y) = (< x, y > +2)^2$\n"
   ]
  },
  {
   "cell_type": "code",
   "execution_count": 1,
   "id": "fc174357",
   "metadata": {},
   "outputs": [],
   "source": [
    "import numpy as np\n",
    "from itertools import combinations\n",
    "\n",
    "def k(x,y):\n",
    "    return (np.dot(x,y) + 2)**2\n",
    "\n",
    "x1 = np.array([1, 2])\n",
    "x2 = np.array([3, 1])\n",
    "x3 = np.array([0, 1])\n",
    "\n",
    "data = [x1,x2,x3]"
   ]
  },
  {
   "cell_type": "markdown",
   "id": "72fee7eb",
   "metadata": {},
   "source": [
    "## Exercise 1\n",
    "\n",
    "What is the dimension of the feature space $F$ induced by the kernel, and what is the kernel induced function $Φ : X → F$ ?"
   ]
  },
  {
   "cell_type": "markdown",
   "id": "fec702f7",
   "metadata": {},
   "source": [
    "$$\n",
    "\\begin{array}{ccl}\n",
    "    < Φ(x), Φ(y) >_F & = & k(x,y) \\\\\n",
    "                     & = & (<x,y> + 2)^2 \\\\\n",
    "                     & = & (<x,y>)^2 + 4<x,y> + 4 \\\\\n",
    "                     & = & (x_1y_1 + x_2y_2)^2 + 4(x_1y_1 + x_2y_2) + 4 \\\\\n",
    "                     & = & x_1^2y_1^2 + 2x_1y_1x_2y_2 + x_2^2y_2^2 + 4x_1y_1 + 4x_2y_2 + 4 \\\\\n",
    "                     & = & <(x_1^2 , x_2^2 , \\sqrt{2}x_1x_2, 2x_1, 2x_2, 2) , (y_1^2 , y_2^2 , \\sqrt{2}y_1y_2, 2y_1, 2y_2, 2)>\n",
    "\\end{array}\n",
    "$$\n",
    "\n",
    "In this sense, we can define $\\Phi$ as:\n",
    "\n",
    "$$\n",
    "\\begin{array}{ccc}\n",
    "    Φ : & \\mathbb{R}^2 & \\rightarrow & \\mathbb{R}^6 \\\\\n",
    "        & (x_1 , x_2) & \\mapsto & (x_1^2 , x_2^2 , \\sqrt{2}x_1x_2, 2x_1, 2x_2, 2)\n",
    "\\end{array}\n",
    "$$\n",
    "\n",
    "Given $F = \\mathbb{R}^6$, we can say that the dimension of the feature space is $6$."
   ]
  },
  {
   "cell_type": "code",
   "execution_count": 2,
   "id": "77e3ba99",
   "metadata": {},
   "outputs": [
    {
     "name": "stdout",
     "output_type": "stream",
     "text": [
      "Test passed for x1 and x2: k(x1,x1) = 49 = <Φ(x1), Φ(x2)>\n",
      "Test passed for x1 and x3: k(x1,x1) = 16 = <Φ(x1), Φ(x2)>\n",
      "Test passed for x2 and x3: k(x2,x2) = 9 = <Φ(x1), Φ(x2)>\n"
     ]
    }
   ],
   "source": [
    "phi = lambda x: np.array([x[0]**2, x[1]**2, np.sqrt(2)*x[0]*x[1], 2*x[0], 2*x[1], 2])\n",
    "\n",
    "for x,y in combinations([0,1,2], 2):\n",
    "    x1_ = data[x]\n",
    "    x2_ = data[y]\n",
    "    assert np.allclose(k(x1_, x2_), np.dot(phi(x1_), phi(x2_))) , \"Test failed for x1 and x2\"\n",
    "    print(f\"Test passed for x{x+1} and x{y+1}: k(x{x+1},x{x+1}) = {k(x1_, x2_)} = <Φ(x1), Φ(x2)>\")"
   ]
  },
  {
   "cell_type": "markdown",
   "id": "6e4983a5",
   "metadata": {},
   "source": [
    "## Exercise 2\n",
    "\n",
    "Calculate $< Φ(x_1), Φ(x_2) >_F$ in the feature space."
   ]
  },
  {
   "cell_type": "code",
   "execution_count": 3,
   "id": "96c10cbb",
   "metadata": {},
   "outputs": [
    {
     "name": "stdout",
     "output_type": "stream",
     "text": [
      "<Φ(x1), Φ(x2)> = k(x1,x2) =  49\n"
     ]
    }
   ],
   "source": [
    "d_prod = k(x1,x2)\n",
    "print(\"<Φ(x1), Φ(x2)> = k(x1,x2) = \", d_prod)"
   ]
  },
  {
   "cell_type": "markdown",
   "id": "623d8384",
   "metadata": {},
   "source": [
    "## Exercise 3\n",
    "\n",
    "Calculate the distance between all the data points in the feature space."
   ]
  },
  {
   "cell_type": "code",
   "execution_count": 4,
   "id": "b371fe92",
   "metadata": {},
   "outputs": [
    {
     "name": "stdout",
     "output_type": "stream",
     "text": [
      "K(x1, x2) = 49\n",
      "|| Φ(x1) - Φ(x2) || = 95\n",
      "d(Φ(x1),Φ(x2)) =  √95 = 9.747\n",
      "\n",
      "K(x1, x3) = 16\n",
      "|| Φ(x1) - Φ(x3) || = 26\n",
      "d(Φ(x1),Φ(x3)) =  √26 = 5.099\n",
      "\n",
      "K(x2, x3) = 9\n",
      "|| Φ(x2) - Φ(x3) || = 135\n",
      "d(Φ(x2),Φ(x3)) =  √135 = 11.619\n",
      "\n"
     ]
    }
   ],
   "source": [
    "feature_dot = lambda x,y : k(x,x) + k(y,y) - 2*k(x,y)\n",
    "data = [x1, x2, x3]\n",
    "for x,y in combinations([0,1,2], 2):\n",
    "    print(f'K(x{x+1}, x{y+1}) = {k(data[x], data[y])}')\n",
    "    print(f'|| Φ(x{x+1}) - Φ(x{y+1}) || = {feature_dot(data[x], data[y])}')\n",
    "    print(f'd(Φ(x{x+1}),Φ(x{y+1})) =  √{feature_dot(data[x], data[y])} = {np.sqrt(feature_dot(data[x], data[y])):.3f}', end='\\n\\n')"
   ]
  }
 ],
 "metadata": {
  "kernelspec": {
   "display_name": "MLVenv",
   "language": "python",
   "name": "python3"
  },
  "language_info": {
   "codemirror_mode": {
    "name": "ipython",
    "version": 3
   },
   "file_extension": ".py",
   "mimetype": "text/x-python",
   "name": "python",
   "nbconvert_exporter": "python",
   "pygments_lexer": "ipython3",
   "version": "3.11.4"
  }
 },
 "nbformat": 4,
 "nbformat_minor": 5
}
